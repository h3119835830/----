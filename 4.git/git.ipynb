{
 "cells": [
  {
   "cell_type": "markdown",
   "metadata": {},
   "source": [
    "1. 打开当前文件夹，快捷键ctrl+`打开终端，输入git init即可仓库初始化\n",
    "2. 采用以下命令：git config --global user.name \"你的用户名\"\n",
    "git config --global user.email \"你的邮箱地址\" \n",
    "3. 将项目推至远程仓库需要设置代理：在终端上输入git config --global http.proxy http://127.0.0.1:7890  然后Publish\n",
    "4. 查看当前存档记录:git log\n",
    "5. 一般操作：先在github上新建仓库并命名；vscode代码控制选择三点后Add Remote即可"
   ]
  }
 ],
 "metadata": {
  "language_info": {
   "name": "python"
  }
 },
 "nbformat": 4,
 "nbformat_minor": 2
}

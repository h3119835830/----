{
 "cells": [
  {
   "cell_type": "markdown",
   "metadata": {},
   "source": [
    "1. 打开当前文件夹，快捷键ctrl+`打开终端，输入git init即可仓库初始化\n",
    "\n",
    "2. 将项目推至远程仓库需要设置代理：在终端上输入git config --global http.proxy http://127.0.0.1:7890  然后Publish\n",
    "3. 查看当前存档记录:git log\n",
    "4. 一般操作：先在github上新建仓库并命名；vscode采用remote选择刚才命名的仓库并推送过去"
   ]
  }
 ],
 "metadata": {
  "language_info": {
   "name": "python"
  }
 },
 "nbformat": 4,
 "nbformat_minor": 2
}

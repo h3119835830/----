{
 "cells": [
  {
   "cell_type": "markdown",
   "metadata": {},
   "source": [
    "### 1. 函数(学过Java没啥好说的)\n",
    "1. 语法：\n",
    "function 函数名(){\n",
    "  函数体\n",
    "}\n",
    "2. 函数名命名规范\n",
    "- 和变量命名基本一致\n",
    "- 尽量小驼峰式命名法\n",
    "- 前缀应该为动词\n",
    "- 命名建议：常用动词约定\n",
    "3. 函数传参\n",
    "function 函数名(参数列表){\n",
    "  函数体\n",
    "}\n",
    "4. 函数返回值(把处理结果返回给调用者)\n",
    "5. 匿名函数\n",
    "- 立即执行函数：(function () {})() 最后一个括号表示调用函数\n",
    "例：(function(x, y){\n",
    "  console.log(x+y)\n",
    "})(1, 2)"
   ]
  }
 ],
 "metadata": {
  "language_info": {
   "name": "python"
  }
 },
 "nbformat": 4,
 "nbformat_minor": 2
}

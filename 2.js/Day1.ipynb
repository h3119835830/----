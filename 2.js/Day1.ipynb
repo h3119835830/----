{
 "cells": [
  {
   "cell_type": "markdown",
   "metadata": {},
   "source": [
    "js+Ajxa+Node.js+MongoDB项目实践\n",
    "权威网站：developer.mozilla.org/zh-CN/docs/Web/JavaScript\n",
    "### 1.1 定义、作用、组成\n",
    "1. Live Server\n",
    "win+左右箭头(左右分屏)\n",
    "2. JavaScript-运行在客户端的编程语言(人机交互)\n",
    "3. 作用\n",
    "- 网页特效\n",
    "- 表单验证\n",
    "- 数据交互\n",
    "- 服务端编程(node.js)\n",
    "4. 组成：ECMAScript、Web APIs(DOM：操作文档，如对页面元素进行移动、大小、添加删除等操作 BOM：操作浏览器，比如页面弹窗，检测窗口宽度、存储数据到浏览器等等)"
   ]
  },
  {
   "cell_type": "markdown",
   "metadata": {},
   "source": [
    "### 1.2 JS书写位置\n",
    "1. 内部\n",
    "- script写在/body上面，一般写在HTML页面底部附近\n",
    "2. 外部\n",
    "- 页面复杂时使用\n",
    "3. 行内\n",
    "- vue常用\n",
    "4. 页面弹窗：alert('xxxx')"
   ]
  },
  {
   "cell_type": "markdown",
   "metadata": {},
   "source": [
    "### 1.3 JS怎么写\n",
    "1. 单行注释(//)\n",
    "- 快捷键：ctrl + /\n",
    "2. 块注释(/* */)\n",
    "- 快捷键：shift+alt+a\n",
    "3. 结束符(;)：可加可不加，实际开发更倾向于不写结束符"
   ]
  },
  {
   "cell_type": "markdown",
   "metadata": {},
   "source": [
    "### 1.4 JS输入输出语法\n",
    "1. 输出语法\n",
    "- 语法1：document.write('xxxx') 向body内输出内容\n",
    "- 语法2：alert('xxxx') 页面弹出警告框\n",
    "- 语法3：console.log('控制台打印') 控制台输出语法，调试使用\n",
    "2. 输入语法\n",
    "- 语法1：prompt('xxxx') 显示一个对话框让用户输入文字\n",
    "3. 代码执行顺序\n",
    "- 按HTML文档流顺序执行JS代码\n",
    "- alert()和prompt()它们会跳过页面渲染先被执行"
   ]
  },
  {
   "cell_type": "markdown",
   "metadata": {},
   "source": [
    "### 2.1 变量的基本使用\n",
    "1. 声明变量：要想使用变量，首先需要创建变量\n",
    "- 语法：let 变量名\n",
    "2. 更新变量\n",
    "- let不允许多次声明一个变量\n",
    "- 可以简单给它一个不同的值来更新它\n",
    "3. 变量命名规则\n",
    "- 规则：只能用下划线、字母、数字、$组成，且数字不能开头\n",
    "- 规范：第一个单词首字母小写，后面每个单词首字母大写\n",
    "4. let和var\n",
    "- 开发中一般使用let，let解决了var的一些问题\n",
    "- var声明过的变量可以重复声明(不合理)\n",
    "### 2.2 变量拓展-数组\n",
    "- let 数组名 = [数据1, 数据2, ... 数据n]"
   ]
  },
  {
   "cell_type": "markdown",
   "metadata": {},
   "source": [
    "### 3 常量的基本使用\n",
    "1. const：某个变量永远不会改变用const来声明"
   ]
  },
  {
   "cell_type": "markdown",
   "metadata": {},
   "source": [
    "### 4. 数据类型\n",
    "1. 基本数据类型\n",
    "- number 数字型\n",
    "- string 字符串型\n",
    "- boolean 布尔型\n",
    "- undefined 未定义型\n",
    "- null 空类型\n",
    "2. 引用数据类型\n",
    "- object 对象"
   ]
  },
  {
   "cell_type": "markdown",
   "metadata": {},
   "source": [
    "### 4.1 数据类型-数字类型(Number)\n",
    "1. js是弱数据类型语言，只有赋值后才知道是什么数据类型；java是强数据类型的语言\n",
    "2. NaN：代表计算错误，是一个不正确的或者一个未定义的数学操作所得到的结果\n",
    "3. 整数，小数都是number类型"
   ]
  },
  {
   "cell_type": "markdown",
   "metadata": {},
   "source": [
    "### 4.1 数据类型-字符串类型(string)\n",
    "1. 单引号('')、双引号(\"\")或反引号(``)包裹的数据都叫字符串\n",
    "2. 单引号/双引号可相互嵌套(外双内单，或者外单内双)\n",
    "3. 可使用转义符\\，输出单引号或双引号\n",
    "4. 字符串可与变量拼接\n",
    "- 1. 可采用字符+变量形式\n",
    "- 2. 模板字符串 外面用`` 里面${变量名}"
   ]
  }
 ],
 "metadata": {
  "language_info": {
   "name": "python"
  }
 },
 "nbformat": 4,
 "nbformat_minor": 2
}

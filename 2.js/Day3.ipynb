{
 "cells": [
  {
   "cell_type": "markdown",
   "metadata": {},
   "source": [
    "### 1. 循环for\n",
    "语法和java相似\n",
    "### 2. 数组\n",
    "与Java不同的地方\n",
    "1. 可添加新数据：arr.push(新增的内容) arr.unshift(新增的内容)\n",
    "- 数组.push()：将一个或多个元素添加到数组的末尾，并返回该数组的新长度\n",
    "- 数组.unshift(新增的内容)：方法将一个或多个元素添加到数组的开头，并返回该数组的新长度\n",
    "2. 删除数组中数据：arr.pop() arr.shift() arr.splice(操作的下标，删除的个数)\n",
    "- 数组.pop()：数组中删除最后一个元素，并返回该元素的值\n",
    "- 数组.shift()：数组中删除第一个元素，并返回该元素的值\n",
    "- 数组.splice() 方法 删除指定元素 \n",
    "- 排序(降序)：arr.sort(function(a, b){\n",
    "  return b - a\n",
    "})"
   ]
  }
 ],
 "metadata": {
  "language_info": {
   "name": "python"
  }
 },
 "nbformat": 4,
 "nbformat_minor": 2
}

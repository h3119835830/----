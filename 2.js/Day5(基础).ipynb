{
 "cells": [
  {
   "cell_type": "markdown",
   "metadata": {},
   "source": [
    "### 1. 对象(object)\n",
    "1. 语法：let 对象名 = {} let 对象名 = new Object() \n",
    "2. 组成：属性和方法\n",
    "- let 对象名 = {\n",
    "  属性名：属性值,\n",
    "  方法名：函数\n",
    "}\n",
    "3. 查的两种方法：(1)对象名.属性名 (2)对象名['属性名']\n",
    "4. 遍历对象 for in\n",
    "- let obj = {\n",
    "  uname: 'pink老师',\n",
    "  age: 18,\n",
    "  gender: '男'\n",
    "}\n",
    "- 遍历对象 for(let k in obj){\n",
    "  console.log(k);\n",
    "  console.log(obj[k]);\n",
    "}\n",
    "5. 内置对象\n",
    "- 如Math函数\n",
    "- 0-10之间的整数：console.log(Math.random() * 11)\n",
    "- Math.random()取[0, 1)中的数"
   ]
  }
 ],
 "metadata": {
  "language_info": {
   "name": "python"
  }
 },
 "nbformat": 4,
 "nbformat_minor": 2
}
